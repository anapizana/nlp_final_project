{
 "cells": [
  {
   "cell_type": "markdown",
   "metadata": {},
   "source": [
    "Create dictionary of clinical notes indexed by patient_id"
   ]
  },
  {
   "cell_type": "code",
   "execution_count": 2,
   "metadata": {
    "collapsed": true
   },
   "outputs": [],
   "source": [
    "from collections import defaultdict\n",
    "import numpy as np \n",
    "import math \n",
    "import re \n",
    "import pickle\n",
    "import datetime\n",
    "import pandas"
   ]
  },
  {
   "cell_type": "code",
   "execution_count": 46,
   "metadata": {
    "collapsed": false
   },
   "outputs": [
    {
     "name": "stdout",
     "output_type": "stream",
     "text": [
      "# of nursing notes 874035\n",
      "# of patients 35823\n"
     ]
    }
   ],
   "source": [
    "notes_file = 'data/NOTEEVENTS.csv'\n",
    "\n",
    "notes_dict = defaultdict(list)\n",
    "note = []\n",
    "note_words = \"\"\n",
    "nurse_count = 0 \n",
    "# categories = set()\n",
    "patient_id_to_save = \"-1\"\n",
    "\n",
    "# make sure to delete the original header and start from the actual data \n",
    "with open(notes_file, 'r') as f:\n",
    "    header = \"\"\n",
    "    saveWords = False \n",
    "\n",
    "    for line in f:\n",
    "        note_data = line.split(\",\")\n",
    "\n",
    "        # check if we've encountered a new patient note \n",
    "        # header is just a pointer that may be a 'true header'\n",
    "        header = line.split(\",\")\n",
    "\n",
    "        if len(header) >= 2:\n",
    "            row_id = header[0]\n",
    "            if row_id == '\"ROW_ID\"':\n",
    "                continue \n",
    "\n",
    "            # to check if this is a real header\n",
    "            patient_id = header[1]\n",
    "            real_header_length = 11\n",
    "\n",
    "            if len(header) == real_header_length and row_id.isdigit() and patient_id.isdigit():\n",
    "\n",
    "                # if there's an old note that is not empty  \n",
    "                if not len(note_words) == 0:\n",
    "                    # add the text \n",
    "                    note.append(note_words)\n",
    "                    \n",
    "                    # save the data to dict\n",
    "                    notes_dict[patient_id_to_save].append(note)\n",
    "                    \n",
    "                    # reset the notes and text \n",
    "                    note = []\n",
    "                    note_words = \"\"\n",
    "\n",
    "                # update the patient_id to the current one you're reading \n",
    "                patient_id_to_save = patient_id \n",
    "\n",
    "                # check category to save words if it is a nursing note or physician's note \n",
    "                category = header[6]\n",
    "                # categories.add(category)\n",
    "                right_category = (category == '\"Nursing\"' or category == '\"Nursing/other\"' or category == '\"Physician\"')\n",
    "                is_error = (header[9] == '1')\n",
    "                if right_category and not is_error: \n",
    "                    saveWords = True \n",
    "                    nurse_count += 1\n",
    "                else:\n",
    "                    saveWords = False \n",
    "\n",
    "        if saveWords:\n",
    "            words = re.findall(r'\\w+', line)\n",
    "            if len(note) == 0:\n",
    "                # set the first index to be the date and the second to be the time \n",
    "                date_and_time = header[4].split(\" \")\n",
    "                note = [date_and_time]\n",
    "\n",
    "            if len(words) > 0:\n",
    "                note_words += line\n",
    "             #   note_words.extend(words)\n",
    "\n",
    "# printing useful data \n",
    "print \"# of nursing notes\", nurse_count \n",
    "print \"# of patients\", len(notes_dict)"
   ]
  },
  {
   "cell_type": "code",
   "execution_count": null,
   "metadata": {
    "collapsed": true
   },
   "outputs": [],
   "source": [
    "# print \"Saving the 1000 patients' data\"\n",
    "# new_keys = notes_dict.keys()[:1000]\n",
    "# new_dict = defaultdict(list)\n",
    "# print \"Iterating through keys.\"\n",
    "# for key in new_keys: \n",
    "#     new_dict[key] = notes_dict[key]\n",
    "# print \"Saving 1000 notes to a pickle file.\"  "
   ]
  },
  {
   "cell_type": "code",
   "execution_count": 22,
   "metadata": {
    "collapsed": false
   },
   "outputs": [
    {
     "name": "stdout",
     "output_type": "stream",
     "text": [
      "Done saving 1000 notes.\n"
     ]
    }
   ],
   "source": [
    "# pickle.dump( new_dict, open( \"notes_dict_1000.p\", \"wb\" ) )\n",
    "# print \"Done saving 1000 notes.\""
   ]
  },
  {
   "cell_type": "markdown",
   "metadata": {},
   "source": [
    "**DO NOT EDIT ANYTHING ABOVE THIS LINE."
   ]
  },
  {
   "cell_type": "code",
   "execution_count": null,
   "metadata": {
    "collapsed": false
   },
   "outputs": [],
   "source": [
    "print \"Number of Patients Stored:\", len(notes_dict)"
   ]
  },
  {
   "cell_type": "code",
   "execution_count": 163,
   "metadata": {
    "collapsed": false
   },
   "outputs": [
    {
     "name": "stdout",
     "output_type": "stream",
     "text": [
      "55973\n",
      "28448\n",
      "7973\n",
      "19213\n",
      "Length of dictionary 61532\n"
     ]
    }
   ],
   "source": [
    "### ======== EXTRACTING PATIENT IDS FOR SEPSIS DATA \n",
    "\n",
    "### This script extracts the patient_id from the icustayid found in the Sepsis.xls file \n",
    "\n",
    "# store the matching into a dictionary to look up in constant time! \n",
    "\n",
    "icustays_file = 'data/ICUSTAYS.csv'\n",
    "\n",
    "id_dict = defaultdict(list)\n",
    "\n",
    "with open(icustays_file, 'r') as f:\n",
    "\n",
    "    count = 0 \n",
    "    for line in f: \n",
    "        if count == 0: \n",
    "            count += 1\n",
    "            continue \n",
    "        row = line.split(\",\")\n",
    "        subject_id = row[1]\n",
    "\n",
    "        # add 200,000\n",
    "        icustay_id = int(row[3])\n",
    "        icustay_id -= 200000\n",
    "        icustay_id = str(icustay_id)\n",
    "        id_dict[icustay_id] = subject_id \n",
    "\n",
    "print id_dict['1']\n",
    "print id_dict['12']\n",
    "print id_dict['1791']\n",
    "print id_dict['1785']\n",
    "\n",
    "# There are 61532 unique icustayids \n",
    "print \"Length of dictionary\", len(id_dict)"
   ]
  },
  {
   "cell_type": "code",
   "execution_count": 156,
   "metadata": {
    "collapsed": false
   },
   "outputs": [
    {
     "name": "stdout",
     "output_type": "stream",
     "text": [
      "[['2166-08-25', '17:59:00'], '1413376,11543,107879,2166-08-25,2166-08-25 17:59:00,2166-08-25 18:01:00,\"Nursing/other\",\"Report\",18795,,\"Resp. Care Note\\nPt received from OR S/P CABGx 2 and placed on vent with settings as per resp flowsheet. Pt weaned to PSV 5 peep 5 and 50% with good ABG. Plan is to extubate when more awake.\\n']\n"
     ]
    }
   ],
   "source": [
    "# FUNCTIONS FOR DATA CONVERSION \n",
    "\n",
    "# EXTRACT THE CORRECT DATE AND TIME \n",
    "def convert_time(i_time):\n",
    "    dt = datetime.datetime.fromtimestamp(int(i_time)).strftime('%Y-%m-%d %H:%M:%S')\n",
    "    dt = dt.split(\" \")\n",
    "    s_date = dt[0]\n",
    "    s_time = dt[1]\n",
    "    return s_date, s_time \n",
    "\n",
    "\n",
    "# EXTRACT PATIENT ID \n",
    "def convert_from_icu_id(i_id):\n",
    "    s_id = id_dict[i_id]\n",
    "    return s_id \n",
    "\n",
    "convert_time('7245052800')\n",
    "\n",
    "print notes_dict.values()[3][0]"
   ]
  },
  {
   "cell_type": "code",
   "execution_count": 168,
   "metadata": {
    "collapsed": false
   },
   "outputs": [],
   "source": [
    "import pandas as pd"
   ]
  },
  {
   "cell_type": "code",
   "execution_count": 161,
   "metadata": {
    "collapsed": false
   },
   "outputs": [
    {
     "name": "stdout",
     "output_type": "stream",
     "text": [
      "69242\n"
     ]
    }
   ],
   "source": [
    "sepsis_train = pd.read_csv(\"data/df-train.csv\").as_matrix()\n",
    "sepsis_test = pd.read_csv(\"data/df-test.csv\").as_matrix()\n",
    "print len(id_dict)"
   ]
  },
  {
   "cell_type": "code",
   "execution_count": 169,
   "metadata": {
    "collapsed": false,
    "scrolled": true
   },
   "outputs": [],
   "source": [
    "def gen_dataset(data):\n",
    "    col_names = [\"label\", \"action\", \"age\", \"hr\", \"bp\", \"spo2\", \"lactate\", \"ph\", \"creatinine\", \"sofa\", \"note\"]\n",
    "    dataset = pd.DataFrame(columns=col_names)\n",
    "    current_id = -1 \n",
    "    patient_all_notes = []\n",
    "\n",
    "    missing_date_count = 0\n",
    "    missing_note_count = 0\n",
    "    note_exists = 0\n",
    "    counter = 0\n",
    "\n",
    "    dataset_list = []\n",
    "    for row in data:\n",
    "\n",
    "        counter += 1\n",
    "        if counter % 1000 == 0:\n",
    "            print counter\n",
    "        icustayid = row[2]\n",
    "        sepsis_id = convert_from_icu_id(str(int(icustayid)))\n",
    "        \n",
    "        if not isinstance(sepsis_id, str):\n",
    "            print icustayid\n",
    "            print sepsis_id\n",
    "            continue\n",
    "\n",
    "        # convert time \n",
    "        sepsis_charttime = row[3]\n",
    "        sepsis_date, sepsis_time = convert_time(sepsis_charttime)\n",
    "\n",
    "        # extract action\n",
    "        sepsis_action = row[60]\n",
    "        sepsis_mortality = row[59]\n",
    "        sepsis_sofa = row[8]\n",
    "\n",
    "        # check to see if you hit new patient, so that you can gather new collection\n",
    "        if not current_id == sepsis_id: \n",
    "\n",
    "            # update the current id\n",
    "            current_id = sepsis_id\n",
    "\n",
    "            # clear the most recent note collection\n",
    "            patient_all_notes = [] \n",
    "\n",
    "            # try to extract patient notes\n",
    "            patient_all_notes = notes_dict[sepsis_id]\n",
    "\n",
    "            # check for key error; ie: no patient notes exist, so move on \n",
    "            if len(patient_all_notes) == 0: \n",
    "              #  print \"No note collection found for this patient.\"\n",
    "                missing_note_count += 1\n",
    "                continue \n",
    "\n",
    "        # at this point, patient_all_notes should be the notes relevant to the patient \n",
    "        # if the code reaches this point, then tehre should be a clinical note available \n",
    "        # new goal: find the most recent note for the patient \n",
    "        # setup of patient_all_notes: each index is data from a note\n",
    "        # For clinical note 0: (should be in chronological order, according to Matthieu)\n",
    "        # patient_all_notes[0][0] = ['2018-10-13', '01:07:00']\n",
    "        # patient_all_notes[0][1] = ['Hi', 'this', 'is', 'text', 'data']]\n",
    "\n",
    "        most_recent_note = []\n",
    "        for i, note in enumerate(patient_all_notes):\n",
    "            note_date = \"\"\n",
    "            note_time = \"\"\n",
    "            if not len(note[0]) < 2:\n",
    "                note_date = note[0][0]\n",
    "                note_time = note[0][1]\n",
    "            else:\n",
    "                missing_date_count += 0\n",
    "                continue\n",
    "\n",
    "            if (note_date == sepsis_date):\n",
    "\n",
    "                # find the time closest to this time \n",
    "                sepsis_hour = int(sepsis_time[:2])\n",
    "                note_hour = int(sepsis_time[:2])\n",
    "\n",
    "                # check to see if the last note was the most recent one \n",
    "                if note_hour > sepsis_hour:\n",
    "                    continue \n",
    "                else: \n",
    "                    most_recent_note = note \n",
    "\n",
    "        # if there is no exact date match ==> need to find solution\n",
    "\n",
    "        ### ======== GENERATING A VECTOR OF THE RL-FEATURES AND THE MORTALITY LABEL \n",
    "        if most_recent_note:\n",
    "            note_exists += 1\n",
    "            # features \n",
    "            age = row[5]\n",
    "            hr = row[12]\n",
    "            bp = row[14]\n",
    "            spo2 = row[18]\n",
    "            lactate = row[45]\n",
    "            ph = row[41]\n",
    "            creatinine = row[26]\n",
    "\n",
    "            data_from_sepsis = [sepsis_mortality, sepsis_action, age, hr, bp, spo2, lactate, ph, creatinine, sepsis_sofa]\n",
    "           # rl_features = [age, hr, bp, spo2, lactate, ph, creatinine, sepsis_sofa]\n",
    "\n",
    "            ### GENERATE A PRELIMINARY DATASET WITHOUT CLINICAL NOTE EMBEDDING\n",
    "\n",
    "            dataset_row = pd.DataFrame(index=range(1), columns=col_names)\n",
    "            dataset_row.iloc[0, :] = np.append(data_from_sepsis, most_recent_note[1])\n",
    "            dataset_list.append(dataset_row)\n",
    "\n",
    "            # clear most recent note in prep for next icustay's note\n",
    "            most_recent_note = []\n",
    "\n",
    "    print \"# of notes for icustays\", note_exists\n",
    "    print \"# of note collections missing\", missing_note_count\n",
    "    print \"# of missing dates\", missing_date_count\n",
    "    return pd.concat(dataset_list).reset_index()"
   ]
  },
  {
   "cell_type": "code",
   "execution_count": 170,
   "metadata": {
    "collapsed": false
   },
   "outputs": [
    {
     "name": "stdout",
     "output_type": "stream",
     "text": [
      "1000\n",
      "2000\n",
      "3000\n",
      "4000\n",
      "5000\n",
      "6000\n",
      "7000\n",
      "8000\n",
      "9000\n",
      "10000\n",
      "11000\n",
      "12000\n",
      "13000\n",
      "14000\n",
      "15000\n",
      "16000\n",
      "17000\n",
      "18000\n",
      "19000\n",
      "20000\n",
      "21000\n",
      "22000\n",
      "23000\n",
      "24000\n",
      "25000\n",
      "26000\n",
      "27000\n",
      "28000\n",
      "29000\n",
      "30000\n",
      "31000\n",
      "32000\n",
      "33000\n",
      "34000\n",
      "35000\n",
      "36000\n",
      "37000\n",
      "38000\n",
      "39000\n",
      "40000\n",
      "41000\n",
      "42000\n",
      "43000\n",
      "44000\n",
      "45000\n",
      "46000\n",
      "47000\n",
      "48000\n",
      "49000\n",
      "50000\n",
      "# of notes for icustays 26627\n",
      "# of note collections missing 1191\n",
      "# of missing dates 0\n"
     ]
    },
    {
     "data": {
      "text/plain": [
       "(26627, 12)"
      ]
     },
     "execution_count": 170,
     "metadata": {},
     "output_type": "execute_result"
    }
   ],
   "source": [
    "# generate the actual datasets \n",
    "final_train = gen_dataset(sepsis_train)\n",
    "final_test = gen_dataset(sepsis_test)\n",
    "\n",
    "final_train.shape\n",
    "final_test.shape"
   ]
  },
  {
   "cell_type": "code",
   "execution_count": 133,
   "metadata": {
    "collapsed": false
   },
   "outputs": [
    {
     "data": {
      "text/html": [
       "<div>\n",
       "<table border=\"1\" class=\"dataframe\">\n",
       "  <thead>\n",
       "    <tr style=\"text-align: right;\">\n",
       "      <th></th>\n",
       "      <th>index</th>\n",
       "      <th>label</th>\n",
       "      <th>action</th>\n",
       "      <th>age</th>\n",
       "      <th>hr</th>\n",
       "      <th>bp</th>\n",
       "      <th>spo2</th>\n",
       "      <th>lactate</th>\n",
       "      <th>ph</th>\n",
       "      <th>creatinine</th>\n",
       "      <th>sofa</th>\n",
       "      <th>note</th>\n",
       "    </tr>\n",
       "  </thead>\n",
       "  <tbody>\n",
       "    <tr>\n",
       "      <th>0</th>\n",
       "      <td>0</td>\n",
       "      <td>0.0</td>\n",
       "      <td>0.0</td>\n",
       "      <td>12049.2173</td>\n",
       "      <td>93.4</td>\n",
       "      <td>79.4</td>\n",
       "      <td>96.4</td>\n",
       "      <td>1.3</td>\n",
       "      <td>7.44</td>\n",
       "      <td>0.66</td>\n",
       "      <td>3.0</td>\n",
       "      <td>1633344,28448,177527,2153-12-23,2153-12-23 05:...</td>\n",
       "    </tr>\n",
       "    <tr>\n",
       "      <th>1</th>\n",
       "      <td>0</td>\n",
       "      <td>0.0</td>\n",
       "      <td>0.0</td>\n",
       "      <td>12049.2173</td>\n",
       "      <td>92.2</td>\n",
       "      <td>83.0</td>\n",
       "      <td>98.8</td>\n",
       "      <td>1.166666667</td>\n",
       "      <td>7.443333333</td>\n",
       "      <td>0.64</td>\n",
       "      <td>2.0</td>\n",
       "      <td>1633344,28448,177527,2153-12-23,2153-12-23 05:...</td>\n",
       "    </tr>\n",
       "    <tr>\n",
       "      <th>2</th>\n",
       "      <td>0</td>\n",
       "      <td>0.0</td>\n",
       "      <td>0.0</td>\n",
       "      <td>12049.2173</td>\n",
       "      <td>107.0</td>\n",
       "      <td>70.0</td>\n",
       "      <td>97.0</td>\n",
       "      <td>1.033333333</td>\n",
       "      <td>7.446666667</td>\n",
       "      <td>0.62</td>\n",
       "      <td>5.0</td>\n",
       "      <td>1633344,28448,177527,2153-12-23,2153-12-23 05:...</td>\n",
       "    </tr>\n",
       "    <tr>\n",
       "      <th>3</th>\n",
       "      <td>0</td>\n",
       "      <td>1.0</td>\n",
       "      <td>3.0</td>\n",
       "      <td>30946.97</td>\n",
       "      <td>69.6</td>\n",
       "      <td>71.2</td>\n",
       "      <td>98.2</td>\n",
       "      <td>0.96</td>\n",
       "      <td>7.42</td>\n",
       "      <td>0.6</td>\n",
       "      <td>4.0</td>\n",
       "      <td>1388060,9514,127229,2105-02-17,2105-02-17 17:3...</td>\n",
       "    </tr>\n",
       "    <tr>\n",
       "      <th>4</th>\n",
       "      <td>0</td>\n",
       "      <td>1.0</td>\n",
       "      <td>2.0</td>\n",
       "      <td>30946.97</td>\n",
       "      <td>69.33333333</td>\n",
       "      <td>82.16666667</td>\n",
       "      <td>98.16666667</td>\n",
       "      <td>1.0</td>\n",
       "      <td>7.4</td>\n",
       "      <td>0.6</td>\n",
       "      <td>4.0</td>\n",
       "      <td>1388060,9514,127229,2105-02-17,2105-02-17 17:3...</td>\n",
       "    </tr>\n",
       "  </tbody>\n",
       "</table>\n",
       "</div>"
      ],
      "text/plain": [
       "   index label action         age           hr           bp         spo2  \\\n",
       "0      0   0.0    0.0  12049.2173         93.4         79.4         96.4   \n",
       "1      0   0.0    0.0  12049.2173         92.2         83.0         98.8   \n",
       "2      0   0.0    0.0  12049.2173        107.0         70.0         97.0   \n",
       "3      0   1.0    3.0    30946.97         69.6         71.2         98.2   \n",
       "4      0   1.0    2.0    30946.97  69.33333333  82.16666667  98.16666667   \n",
       "\n",
       "       lactate           ph creatinine sofa  \\\n",
       "0          1.3         7.44       0.66  3.0   \n",
       "1  1.166666667  7.443333333       0.64  2.0   \n",
       "2  1.033333333  7.446666667       0.62  5.0   \n",
       "3         0.96         7.42        0.6  4.0   \n",
       "4          1.0          7.4        0.6  4.0   \n",
       "\n",
       "                                                note  \n",
       "0  1633344,28448,177527,2153-12-23,2153-12-23 05:...  \n",
       "1  1633344,28448,177527,2153-12-23,2153-12-23 05:...  \n",
       "2  1633344,28448,177527,2153-12-23,2153-12-23 05:...  \n",
       "3  1388060,9514,127229,2105-02-17,2105-02-17 17:3...  \n",
       "4  1388060,9514,127229,2105-02-17,2105-02-17 17:3...  "
      ]
     },
     "execution_count": 133,
     "metadata": {},
     "output_type": "execute_result"
    }
   ],
   "source": [
    "final_dataset.head()"
   ]
  },
  {
   "cell_type": "code",
   "execution_count": 134,
   "metadata": {
    "collapsed": false
   },
   "outputs": [],
   "source": [
    "final_train.to_csv(\"train_dataset.csv\")"
   ]
  },
  {
   "cell_type": "code",
   "execution_count": 171,
   "metadata": {
    "collapsed": false
   },
   "outputs": [],
   "source": [
    "final_test.to_csv(\"test_dataset.csv\")"
   ]
  },
  {
   "cell_type": "code",
   "execution_count": null,
   "metadata": {
    "collapsed": true
   },
   "outputs": [],
   "source": []
  },
  {
   "cell_type": "code",
   "execution_count": null,
   "metadata": {
    "collapsed": true
   },
   "outputs": [],
   "source": []
  }
 ],
 "metadata": {
  "anaconda-cloud": {},
  "kernelspec": {
   "display_name": "Python 2",
   "language": "python",
   "name": "python2"
  },
  "language_info": {
   "codemirror_mode": {
    "name": "ipython",
    "version": 2
   },
   "file_extension": ".py",
   "mimetype": "text/x-python",
   "name": "python",
   "nbconvert_exporter": "python",
   "pygments_lexer": "ipython2",
   "version": "2.7.13"
  }
 },
 "nbformat": 4,
 "nbformat_minor": 1
}
